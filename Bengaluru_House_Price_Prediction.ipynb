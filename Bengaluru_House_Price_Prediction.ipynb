{
 "cells": [
  {
   "cell_type": "markdown",
   "id": "b1e8504d",
   "metadata": {},
   "source": [
    "# 1) Importing Dataset and Libraries :"
   ]
  },
  {
   "cell_type": "code",
   "execution_count": 1,
   "id": "06bc121c",
   "metadata": {},
   "outputs": [],
   "source": [
    "import pandas as pd\n",
    "import numpy as np\n",
    "import matplotlib.pyplot as plt\n",
    "import seaborn as sns\n",
    "import statsmodels.api as sm\n",
    "from statsmodels.formula.api import ols\n",
    "import warnings\n",
    "warnings.filterwarnings('ignore')\n",
    "\n",
    "from sklearn.model_selection import train_test_split"
   ]
  },
  {
   "cell_type": "code",
   "execution_count": 2,
   "id": "826b3986",
   "metadata": {},
   "outputs": [],
   "source": [
    "house_data = pd.read_csv(\"Bengaluru_House_Data.csv\")"
   ]
  },
  {
   "cell_type": "code",
   "execution_count": 3,
   "id": "bb9b5df1",
   "metadata": {},
   "outputs": [
    {
     "data": {
      "text/html": [
       "<div>\n",
       "<style scoped>\n",
       "    .dataframe tbody tr th:only-of-type {\n",
       "        vertical-align: middle;\n",
       "    }\n",
       "\n",
       "    .dataframe tbody tr th {\n",
       "        vertical-align: top;\n",
       "    }\n",
       "\n",
       "    .dataframe thead th {\n",
       "        text-align: right;\n",
       "    }\n",
       "</style>\n",
       "<table border=\"1\" class=\"dataframe\">\n",
       "  <thead>\n",
       "    <tr style=\"text-align: right;\">\n",
       "      <th></th>\n",
       "      <th>area_type</th>\n",
       "      <th>availability</th>\n",
       "      <th>location</th>\n",
       "      <th>size</th>\n",
       "      <th>society</th>\n",
       "      <th>total_sqft</th>\n",
       "      <th>bath</th>\n",
       "      <th>balcony</th>\n",
       "      <th>price</th>\n",
       "    </tr>\n",
       "  </thead>\n",
       "  <tbody>\n",
       "    <tr>\n",
       "      <th>0</th>\n",
       "      <td>Super built-up  Area</td>\n",
       "      <td>19-Dec</td>\n",
       "      <td>Electronic City Phase II</td>\n",
       "      <td>2 BHK</td>\n",
       "      <td>Coomee</td>\n",
       "      <td>1056</td>\n",
       "      <td>2.0</td>\n",
       "      <td>1.0</td>\n",
       "      <td>39.07</td>\n",
       "    </tr>\n",
       "    <tr>\n",
       "      <th>1</th>\n",
       "      <td>Plot  Area</td>\n",
       "      <td>Ready To Move</td>\n",
       "      <td>Chikka Tirupathi</td>\n",
       "      <td>4 Bedroom</td>\n",
       "      <td>Theanmp</td>\n",
       "      <td>2600</td>\n",
       "      <td>5.0</td>\n",
       "      <td>3.0</td>\n",
       "      <td>120.00</td>\n",
       "    </tr>\n",
       "    <tr>\n",
       "      <th>2</th>\n",
       "      <td>Built-up  Area</td>\n",
       "      <td>Ready To Move</td>\n",
       "      <td>Uttarahalli</td>\n",
       "      <td>3 BHK</td>\n",
       "      <td>NaN</td>\n",
       "      <td>1440</td>\n",
       "      <td>2.0</td>\n",
       "      <td>3.0</td>\n",
       "      <td>62.00</td>\n",
       "    </tr>\n",
       "    <tr>\n",
       "      <th>3</th>\n",
       "      <td>Super built-up  Area</td>\n",
       "      <td>Ready To Move</td>\n",
       "      <td>Lingadheeranahalli</td>\n",
       "      <td>3 BHK</td>\n",
       "      <td>Soiewre</td>\n",
       "      <td>1521</td>\n",
       "      <td>3.0</td>\n",
       "      <td>1.0</td>\n",
       "      <td>95.00</td>\n",
       "    </tr>\n",
       "    <tr>\n",
       "      <th>4</th>\n",
       "      <td>Super built-up  Area</td>\n",
       "      <td>Ready To Move</td>\n",
       "      <td>Kothanur</td>\n",
       "      <td>2 BHK</td>\n",
       "      <td>NaN</td>\n",
       "      <td>1200</td>\n",
       "      <td>2.0</td>\n",
       "      <td>1.0</td>\n",
       "      <td>51.00</td>\n",
       "    </tr>\n",
       "  </tbody>\n",
       "</table>\n",
       "</div>"
      ],
      "text/plain": [
       "              area_type   availability                  location       size  \\\n",
       "0  Super built-up  Area         19-Dec  Electronic City Phase II      2 BHK   \n",
       "1            Plot  Area  Ready To Move          Chikka Tirupathi  4 Bedroom   \n",
       "2        Built-up  Area  Ready To Move               Uttarahalli      3 BHK   \n",
       "3  Super built-up  Area  Ready To Move        Lingadheeranahalli      3 BHK   \n",
       "4  Super built-up  Area  Ready To Move                  Kothanur      2 BHK   \n",
       "\n",
       "   society total_sqft  bath  balcony   price  \n",
       "0  Coomee        1056   2.0      1.0   39.07  \n",
       "1  Theanmp       2600   5.0      3.0  120.00  \n",
       "2      NaN       1440   2.0      3.0   62.00  \n",
       "3  Soiewre       1521   3.0      1.0   95.00  \n",
       "4      NaN       1200   2.0      1.0   51.00  "
      ]
     },
     "execution_count": 3,
     "metadata": {},
     "output_type": "execute_result"
    }
   ],
   "source": [
    "house_data.head()"
   ]
  },
  {
   "cell_type": "code",
   "execution_count": 4,
   "id": "0f5e93fe",
   "metadata": {},
   "outputs": [
    {
     "name": "stdout",
     "output_type": "stream",
     "text": [
      "Dataset contains 9 columns and 13320 rows.\n"
     ]
    }
   ],
   "source": [
    "# Shape Of Dataset :\n",
    "print(\"Dataset contains {} columns and {} rows.\".format(house_data.shape[1],house_data.shape[0]))"
   ]
  },
  {
   "cell_type": "code",
   "execution_count": null,
   "id": "448b7bca",
   "metadata": {},
   "outputs": [],
   "source": []
  },
  {
   "cell_type": "markdown",
   "id": "7f39a8d1",
   "metadata": {},
   "source": [
    "# 2) Missing Values :"
   ]
  },
  {
   "cell_type": "code",
   "execution_count": 5,
   "id": "e98e4529",
   "metadata": {},
   "outputs": [
    {
     "name": "stdout",
     "output_type": "stream",
     "text": [
      "<class 'pandas.core.frame.DataFrame'>\n",
      "RangeIndex: 13320 entries, 0 to 13319\n",
      "Data columns (total 9 columns):\n",
      " #   Column        Non-Null Count  Dtype  \n",
      "---  ------        --------------  -----  \n",
      " 0   area_type     13320 non-null  object \n",
      " 1   availability  13320 non-null  object \n",
      " 2   location      13319 non-null  object \n",
      " 3   size          13304 non-null  object \n",
      " 4   society       7818 non-null   object \n",
      " 5   total_sqft    13320 non-null  object \n",
      " 6   bath          13247 non-null  float64\n",
      " 7   balcony       12711 non-null  float64\n",
      " 8   price         13320 non-null  float64\n",
      "dtypes: float64(3), object(6)\n",
      "memory usage: 936.7+ KB\n"
     ]
    }
   ],
   "source": [
    "house_data.info()"
   ]
  },
  {
   "cell_type": "code",
   "execution_count": 6,
   "id": "36e40615",
   "metadata": {},
   "outputs": [
    {
     "data": {
      "text/plain": [
       "area_type          0\n",
       "availability       0\n",
       "location           1\n",
       "size              16\n",
       "society         5502\n",
       "total_sqft         0\n",
       "bath              73\n",
       "balcony          609\n",
       "price              0\n",
       "dtype: int64"
      ]
     },
     "execution_count": 6,
     "metadata": {},
     "output_type": "execute_result"
    }
   ],
   "source": [
    "house_data.isnull().sum()"
   ]
  },
  {
   "cell_type": "code",
   "execution_count": 7,
   "id": "cfd04228",
   "metadata": {},
   "outputs": [
    {
     "data": {
      "image/png": "[encoded data removed]",
      "text/plain": [
       "<Figure size 1080x432 with 1 Axes>"
      ]
     },
     "metadata": {
      "needs_background": "light"
     },
     "output_type": "display_data"
    }
   ],
   "source": [
    "plt.figure(figsize=(15,6))\n",
    "sns.heatmap(house_data.isnull(), cbar=False,center=1)\n",
    "plt.show()"
   ]
  },
  {
   "cell_type": "markdown",
   "id": "a0e70b76",
   "metadata": {},
   "source": [
    "# 3) Target Variable :"
   ]
  },
  {
   "cell_type": "code",
   "execution_count": 8,
   "id": "b693dfd3",
   "metadata": {},
   "outputs": [
    {
     "data": {
      "text/plain": [
       "count    13320.000000\n",
       "mean       112.565627\n",
       "std        148.971674\n",
       "min          8.000000\n",
       "25%         50.000000\n",
       "50%         72.000000\n",
       "75%        120.000000\n",
       "max       3600.000000\n",
       "Name: price, dtype: float64"
      ]
     },
     "execution_count": 8,
     "metadata": {},
     "output_type": "execute_result"
    }
   ],
   "source": [
    "house_data[\"price\"].describe()"
   ]
  },
  {
   "cell_type": "code",
   "execution_count": 9,
   "id": "9f33c5c0",
   "metadata": {},
   "outputs": [
    {
     "data": {
      "image/png": "[encoded data removed]",
      "text/plain": [
       "<Figure size 1080x432 with 1 Axes>"
      ]
     },
     "metadata": {
      "needs_background": "light"
     },
     "output_type": "display_data"
    }
   ],
   "source": [
    "# Creating histogram\n",
    "plt.figure(figsize=(15,6))\n",
    "plt.hist(x=house_data[\"price\"], bins='auto', color='blue', rwidth=1)\n",
    "plt.grid(axis='y', alpha=0.75)\n",
    "plt.xlabel('Price')\n",
    "plt.ylabel('Frequency')\n",
    "plt.title('Histogram Of Price Column')\n",
    "plt.show()"
   ]
  },
  {
   "cell_type": "code",
   "execution_count": null,
   "id": "55638a72",
   "metadata": {},
   "outputs": [],
   "source": []
  },
  {
   "cell_type": "markdown",
   "id": "3e74879e",
   "metadata": {},
   "source": [
    "# 4) Relationship Between Input and Output Variables :"
   ]
  },
  {
   "cell_type": "code",
   "execution_count": 10,
   "id": "e99525d2",
   "metadata": {},
   "outputs": [
    {
     "data": {
      "text/plain": [
       "Index(['area_type', 'availability', 'location', 'size', 'society',\n",
       "       'total_sqft', 'bath', 'balcony', 'price'],\n",
       "      dtype='object')"
      ]
     },
     "execution_count": 10,
     "metadata": {},
     "output_type": "execute_result"
    }
   ],
   "source": [
    "house_data.columns"
   ]
  },
  {
   "cell_type": "markdown",
   "id": "73d5c26f",
   "metadata": {},
   "source": [
    "###  4.1) area_type :"
   ]
  },
  {
   "cell_type": "code",
   "execution_count": 11,
   "id": "6d0a2c23",
   "metadata": {},
   "outputs": [
    {
     "data": {
      "text/plain": [
       "count                    13320\n",
       "unique                       4\n",
       "top       Super built-up  Area\n",
       "freq                      8790\n",
       "Name: area_type, dtype: object"
      ]
     },
     "execution_count": 11,
     "metadata": {},
     "output_type": "execute_result"
    }
   ],
   "source": [
    "house_data[\"area_type\"].describe()"
   ]
  },
  {
   "cell_type": "code",
   "execution_count": 12,
   "id": "0808a078",
   "metadata": {},
   "outputs": [
    {
     "data": {
      "text/plain": [
       "0"
      ]
     },
     "execution_count": 12,
     "metadata": {},
     "output_type": "execute_result"
    }
   ],
   "source": [
    "house_data[\"area_type\"].isnull().sum()\n",
    "# No missing values."
   ]
  },
  {
   "cell_type": "code",
   "execution_count": 13,
   "id": "9a21050c",
   "metadata": {},
   "outputs": [
    {
     "data": {
      "text/plain": [
       "dtype('O')"
      ]
     },
     "execution_count": 13,
     "metadata": {},
     "output_type": "execute_result"
    }
   ],
   "source": [
    "house_data[\"area_type\"].dtype\n",
    "# Object Data-type"
   ]
  },
  {
   "cell_type": "code",
   "execution_count": 14,
   "id": "ddea5e11",
   "metadata": {},
   "outputs": [
    {
     "data": {
      "text/plain": [
       "Super built-up  Area    8790\n",
       "Built-up  Area          2418\n",
       "Plot  Area              2025\n",
       "Carpet  Area              87\n",
       "Name: area_type, dtype: int64"
      ]
     },
     "execution_count": 14,
     "metadata": {},
     "output_type": "execute_result"
    }
   ],
   "source": [
    "house_data[\"area_type\"].value_counts()"
   ]
  },
  {
   "cell_type": "code",
   "execution_count": 15,
   "id": "7358ed15",
   "metadata": {},
   "outputs": [
    {
     "data": {
      "image/png": "[encoded data removed]",
      "text/plain": [
       "<Figure size 360x360 with 1 Axes>"
      ]
     },
     "metadata": {
      "needs_background": "light"
     },
     "output_type": "display_data"
    }
   ],
   "source": [
    "w = sns.displot(data=house_data, x=\"area_type\")\n",
    "w.set_xticklabels(rotation=45)\n",
    "plt.title(\"Countplot of 'area_type\", fontsize=20)\n",
    "plt.show()"
   ]
  },
  {
   "cell_type": "code",
   "execution_count": 16,
   "id": "3197ebd7",
   "metadata": {},
   "outputs": [
    {
     "name": "stdout",
     "output_type": "stream",
     "text": [
      "p value is 2.583085084870876e-225\n",
      "\n",
      "\n",
      "Target/output variable is Dependent on given input variable.\n",
      "Hence, There is relationship between input and output variables.\n"
     ]
    }
   ],
   "source": [
    "model = ols('house_data[\"price\"]~house_data[\"area_type\"]', data=house_data).fit()\n",
    "anova_result = sm.stats.anova_lm(model, type=2)\n",
    "p = anova_result[\"PR(>F)\"][0]\n",
    "alpha = 0.05\n",
    "\n",
    "print(\"p value is \" + str(p))\n",
    "print(\"\\n\")\n",
    "\n",
    "if p <= alpha:\n",
    "    print('Target/output variable is Dependent on given input variable.')\n",
    "    print('Hence, There is relationship between input and output variables.')\n",
    "else:\n",
    "    print('Independent')\n",
    "    print('Hence, There is NO relationship between input and output variables.')"
   ]
  },
  {
   "cell_type": "code",
   "execution_count": null,
   "id": "9a2e3606",
   "metadata": {},
   "outputs": [],
   "source": []
  },
  {
   "cell_type": "markdown",
   "id": "74f968c4",
   "metadata": {},
   "source": [
    "###  4.2) availability :"
   ]
  },
  {
   "cell_type": "code",
   "execution_count": 17,
   "id": "99cecf3b",
   "metadata": {},
   "outputs": [
    {
     "data": {
      "text/plain": [
       "count             13320\n",
       "unique               81\n",
       "top       Ready To Move\n",
       "freq              10581\n",
       "Name: availability, dtype: object"
      ]
     },
     "execution_count": 17,
     "metadata": {},
     "output_type": "execute_result"
    }
   ],
   "source": [
    "house_data[\"availability\"].describe()"
   ]
  },
  {
   "cell_type": "code",
   "execution_count": 18,
   "id": "a3740b98",
   "metadata": {},
   "outputs": [
    {
     "data": {
      "text/plain": [
       "0"
      ]
     },
     "execution_count": 18,
     "metadata": {},
     "output_type": "execute_result"
    }
   ],
   "source": [
    "house_data[\"availability\"].isnull().sum()\n",
    "# No missing values."
   ]
  },
  {
   "cell_type": "code",
   "execution_count": 19,
   "id": "91e380bb",
   "metadata": {},
   "outputs": [
    {
     "data": {
      "text/plain": [
       "dtype('O')"
      ]
     },
     "execution_count": 19,
     "metadata": {},
     "output_type": "execute_result"
    }
   ],
   "source": [
    "house_data[\"availability\"].dtype\n",
    "# Object Data-type"
   ]
  },
  {
   "cell_type": "code",
   "execution_count": 20,
   "id": "85a1850d",
   "metadata": {},
   "outputs": [
    {
     "data": {
      "text/plain": [
       "Ready To Move    10581\n",
       "18-Dec             307\n",
       "18-May             295\n",
       "18-Apr             271\n",
       "18-Aug             200\n",
       "                 ...  \n",
       "15-Dec               1\n",
       "16-Nov               1\n",
       "15-Aug               1\n",
       "14-Jul               1\n",
       "16-Jul               1\n",
       "Name: availability, Length: 81, dtype: int64"
      ]
     },
     "execution_count": 20,
     "metadata": {},
     "output_type": "execute_result"
    }
   ],
   "source": [
    "house_data[\"availability\"].value_counts()"
   ]
  },
  {
   "cell_type": "code",
   "execution_count": 21,
   "id": "f5fbe14a",
   "metadata": {},
   "outputs": [],
   "source": [
    "# Chnaging Labels :\n",
    "house_data[\"availability\"][house_data[\"availability\"]!=\"Ready To Move\"]=\"Not Ready To Move\""
   ]
  },
  {
   "cell_type": "code",
   "execution_count": 22,
   "id": "6b97c01f",
   "metadata": {},
   "outputs": [
    {
     "data": {
      "text/plain": [
       "Ready To Move        10581\n",
       "Not Ready To Move     2739\n",
       "Name: availability, dtype: int64"
      ]
     },
     "execution_count": 22,
     "metadata": {},
     "output_type": "execute_result"
    }
   ],
   "source": [
    "house_data[\"availability\"].value_counts()"
   ]
  },
  {
   "cell_type": "code",
   "execution_count": 23,
   "id": "f6cc9657",
   "metadata": {},
   "outputs": [
    {
     "data": {
      "image/png": "[encoded data removed]",
      "text/plain": [
       "<Figure size 360x360 with 1 Axes>"
      ]
     },
     "metadata": {
      "needs_background": "light"
     },
     "output_type": "display_data"
    }
   ],
   "source": [
    "w = sns.displot(data=house_data, x=\"availability\")\n",
    "w.set_xticklabels(rotation=45)\n",
    "plt.title(\"Countplot of 'availability\", fontsize=20)\n",
    "plt.show()"
   ]
  },
  {
   "cell_type": "code",
   "execution_count": 24,
   "id": "de75c20d",
   "metadata": {},
   "outputs": [
    {
     "name": "stdout",
     "output_type": "stream",
     "text": [
      "p value is 6.875161555848967e-05\n",
      "\n",
      "\n",
      "Target/output variable is Dependent on given input variable.\n",
      "Hence, There is relationship between input and output variables.\n"
     ]
    }
   ],
   "source": [
    "model = ols('house_data[\"price\"]~house_data[\"availability\"]', data=house_data).fit()\n",
    "anova_result = sm.stats.anova_lm(model, type=2)\n",
    "p = anova_result[\"PR(>F)\"][0]\n",
    "alpha = 0.05\n",
    "\n",
    "print(\"p value is \" + str(p))\n",
    "print(\"\\n\")\n",
    "\n",
    "if p <= alpha:\n",
    "    print('Target/output variable is Dependent on given input variable.')\n",
    "    print('Hence, There is relationship between input and output variables.')\n",
    "else:\n",
    "    print('Independent')\n",
    "    print('Hence, There is NO relationship between input and output variables.')"
   ]
  },
  {
   "cell_type": "code",
   "execution_count": null,
   "id": "b8c7bd4c",
   "metadata": {},
   "outputs": [],
   "source": []
  },
  {
   "cell_type": "markdown",
   "id": "c7a69f6a",
   "metadata": {},
   "source": [
    "###  4.3) location :"
   ]
  },
  {
   "cell_type": "code",
   "execution_count": 25,
   "id": "ddd05a2f",
   "metadata": {},
   "outputs": [
    {
     "data": {
      "text/plain": [
       "count          13319\n",
       "unique          1305\n",
       "top       Whitefield\n",
       "freq             540\n",
       "Name: location, dtype: object"
      ]
     },
     "execution_count": 25,
     "metadata": {},
     "output_type": "execute_result"
    }
   ],
   "source": [
    "house_data[\"location\"].describe()"
   ]
  },
  {
   "cell_type": "code",
   "execution_count": 26,
   "id": "12c725b8",
   "metadata": {},
   "outputs": [
    {
     "data": {
      "text/plain": [
       "1"
      ]
     },
     "execution_count": 26,
     "metadata": {},
     "output_type": "execute_result"
    }
   ],
   "source": [
    "house_data[\"location\"].isnull().sum()\n",
    "# Missing value is Present."
   ]
  },
  {
   "cell_type": "code",
   "execution_count": 27,
   "id": "0d6bcaed",
   "metadata": {},
   "outputs": [
    {
     "data": {
      "text/plain": [
       "0"
      ]
     },
     "execution_count": 27,
     "metadata": {},
     "output_type": "execute_result"
    }
   ],
   "source": [
    "# Repalcing Missing Value with Mode Value :\n",
    "mod_Val = house_data[\"location\"].mode()[0]\n",
    "house_data[\"location\"].fillna(value=mod_Val, inplace=True)\n",
    "house_data[\"location\"].isnull().sum()\n",
    "# No missing values."
   ]
  },
  {
   "cell_type": "code",
   "execution_count": 28,
   "id": "d22c1a92",
   "metadata": {},
   "outputs": [
    {
     "data": {
      "text/plain": [
       "dtype('O')"
      ]
     },
     "execution_count": 28,
     "metadata": {},
     "output_type": "execute_result"
    }
   ],
   "source": [
    "house_data[\"location\"].dtype\n",
    "# Object Data-type"
   ]
  },
  {
   "cell_type": "code",
   "execution_count": 29,
   "id": "4d5c8342",
   "metadata": {},
   "outputs": [
    {
     "data": {
      "text/plain": [
       "Whitefield                    541\n",
       "Sarjapur  Road                399\n",
       "Electronic City               302\n",
       "Kanakpura Road                273\n",
       "Thanisandra                   234\n",
       "                             ... \n",
       "Gayathri Nagar                  1\n",
       "St Thomas Town                  1\n",
       "BTM Layout 1stage 9th Main      1\n",
       "Billapura                       1\n",
       "CQAL LAYOUT C BLOCK             1\n",
       "Name: location, Length: 1305, dtype: int64"
      ]
     },
     "execution_count": 29,
     "metadata": {},
     "output_type": "execute_result"
    }
   ],
   "source": [
    "house_data[\"location\"].value_counts()"
   ]
  },
  {
   "cell_type": "code",
   "execution_count": 30,
   "id": "84c82b84",
   "metadata": {},
   "outputs": [],
   "source": [
    "house_data[\"location\"] = house_data[\"location\"].apply(lambda x : x.strip())\n",
    "location_count = house_data[\"location\"].value_counts()"
   ]
  },
  {
   "cell_type": "code",
   "execution_count": 31,
   "id": "f2a87be2",
   "metadata": {},
   "outputs": [],
   "source": [
    "location_count_less_10 = location_count[location_count<=10]"
   ]
  },
  {
   "cell_type": "code",
   "execution_count": 32,
   "id": "aba5c6aa",
   "metadata": {},
   "outputs": [],
   "source": [
    "house_data[\"location\"] = house_data[\"location\"].apply(lambda x : \"other\" if x in location_count_less_10 else x)"
   ]
  },
  {
   "cell_type": "code",
   "execution_count": 33,
   "id": "d93cff4d",
   "metadata": {},
   "outputs": [
    {
     "name": "stdout",
     "output_type": "stream",
     "text": [
      "p value is 1.385558472030792e-268\n",
      "\n",
      "\n",
      "Target/output variable is Dependent on given input variable.\n",
      "Hence, There is relationship between input and output variables.\n"
     ]
    }
   ],
   "source": [
    "model = ols('house_data[\"price\"]~house_data[\"location\"]', data=house_data).fit()\n",
    "anova_result = sm.stats.anova_lm(model, type=2)\n",
    "p = anova_result[\"PR(>F)\"][0]\n",
    "alpha = 0.05\n",
    "\n",
    "print(\"p value is \" + str(p))\n",
    "print(\"\\n\")\n",
    "\n",
    "if p <= alpha:\n",
    "    print('Target/output variable is Dependent on given input variable.')\n",
    "    print('Hence, There is relationship between input and output variables.')\n",
    "else:\n",
    "    print('Independent')\n",
    "    print('Hence, There is NO relationship between input and output variables.')"
   ]
  },
  {
   "cell_type": "code",
   "execution_count": null,
   "id": "d164eb69",
   "metadata": {},
   "outputs": [],
   "source": []
  },
  {
   "cell_type": "markdown",
   "id": "1ece7164",
   "metadata": {},
   "source": [
    "###  4.4) size :"
   ]
  },
  {
   "cell_type": "code",
   "execution_count": 34,
   "id": "e252515d",
   "metadata": {},
   "outputs": [
    {
     "data": {
      "text/plain": [
       "count     13304\n",
       "unique       31\n",
       "top       2 BHK\n",
       "freq       5199\n",
       "Name: size, dtype: object"
      ]
     },
     "execution_count": 34,
     "metadata": {},
     "output_type": "execute_result"
    }
   ],
   "source": [
    "house_data[\"size\"].describe()"
   ]
  },
  {
   "cell_type": "code",
   "execution_count": 35,
   "id": "0b8d7b62",
   "metadata": {},
   "outputs": [
    {
     "data": {
      "text/plain": [
       "16"
      ]
     },
     "execution_count": 35,
     "metadata": {},
     "output_type": "execute_result"
    }
   ],
   "source": [
    "house_data[\"size\"].isnull().sum()\n",
    "# Missing values are Present."
   ]
  },
  {
   "cell_type": "code",
   "execution_count": 36,
   "id": "6f567fb0",
   "metadata": {},
   "outputs": [
    {
     "data": {
      "text/plain": [
       "0"
      ]
     },
     "execution_count": 36,
     "metadata": {},
     "output_type": "execute_result"
    }
   ],
   "source": [
    "# Repalcing Missing Value with Mode Value :\n",
    "mod_Val = house_data[\"size\"].mode()[0]\n",
    "house_data[\"size\"].fillna(value=mod_Val, inplace=True)\n",
    "house_data[\"size\"].isnull().sum()\n",
    "# No missing values."
   ]
  },
  {
   "cell_type": "code",
   "execution_count": 37,
   "id": "5f2a49b2",
   "metadata": {},
   "outputs": [
    {
     "data": {
      "text/plain": [
       "dtype('O')"
      ]
     },
     "execution_count": 37,
     "metadata": {},
     "output_type": "execute_result"
    }
   ],
   "source": [
    "house_data[\"size\"].dtype\n",
    "# Object Data-type"
   ]
  },
  {
   "cell_type": "code",
   "execution_count": 38,
   "id": "b1ad4cd6",
   "metadata": {},
   "outputs": [
    {
     "data": {
      "text/plain": [
       "2 BHK         5215\n",
       "3 BHK         4310\n",
       "4 Bedroom      826\n",
       "4 BHK          591\n",
       "3 Bedroom      547\n",
       "1 BHK          538\n",
       "2 Bedroom      329\n",
       "5 Bedroom      297\n",
       "6 Bedroom      191\n",
       "1 Bedroom      105\n",
       "8 Bedroom       84\n",
       "7 Bedroom       83\n",
       "5 BHK           59\n",
       "9 Bedroom       46\n",
       "6 BHK           30\n",
       "7 BHK           17\n",
       "1 RK            13\n",
       "10 Bedroom      12\n",
       "9 BHK            8\n",
       "8 BHK            5\n",
       "10 BHK           2\n",
       "11 BHK           2\n",
       "11 Bedroom       2\n",
       "16 BHK           1\n",
       "19 BHK           1\n",
       "18 Bedroom       1\n",
       "14 BHK           1\n",
       "13 BHK           1\n",
       "27 BHK           1\n",
       "43 Bedroom       1\n",
       "12 Bedroom       1\n",
       "Name: size, dtype: int64"
      ]
     },
     "execution_count": 38,
     "metadata": {},
     "output_type": "execute_result"
    }
   ],
   "source": [
    "house_data[\"size\"].value_counts()"
   ]
  },
  {
   "cell_type": "code",
   "execution_count": 39,
   "id": "64973227",
   "metadata": {},
   "outputs": [],
   "source": [
    "house_data[\"size\"] = house_data[\"size\"].apply(lambda x : x.strip())\n",
    "size_count = house_data[\"size\"].value_counts()"
   ]
  },
  {
   "cell_type": "code",
   "execution_count": 40,
   "id": "8ae9d870",
   "metadata": {},
   "outputs": [],
   "source": [
    "size_count_less_10 = size_count[size_count<=10]"
   ]
  },
  {
   "cell_type": "code",
   "execution_count": 41,
   "id": "c87494f7",
   "metadata": {},
   "outputs": [],
   "source": [
    "house_data[\"size\"] = house_data[\"size\"].apply(lambda x : \"other\" if x in size_count_less_10 else x)"
   ]
  },
  {
   "cell_type": "code",
   "execution_count": 42,
   "id": "00ab090d",
   "metadata": {},
   "outputs": [
    {
     "data": {
      "image/png": "[encoded data removed]",
      "text/plain": [
       "<Figure size 360x360 with 1 Axes>"
      ]
     },
     "metadata": {
      "needs_background": "light"
     },
     "output_type": "display_data"
    }
   ],
   "source": [
    "w = sns.displot(data=house_data, x=\"size\")\n",
    "w.set_xticklabels(rotation=45)\n",
    "plt.title(\"Countplot of 'size\", fontsize=20)\n",
    "plt.show()"
   ]
  },
  {
   "cell_type": "code",
   "execution_count": 43,
   "id": "45106868",
   "metadata": {},
   "outputs": [
    {
     "name": "stdout",
     "output_type": "stream",
     "text": [
      "p value is 0.0\n",
      "\n",
      "\n",
      "Target/output variable is Dependent on given input variable.\n",
      "Hence, There is relationship between input and output variables.\n"
     ]
    }
   ],
   "source": [
    "model = ols('house_data[\"price\"]~house_data[\"size\"]', data=house_data).fit()\n",
    "anova_result = sm.stats.anova_lm(model, type=2)\n",
    "p = anova_result[\"PR(>F)\"][0]\n",
    "alpha = 0.05\n",
    "\n",
    "print(\"p value is \" + str(p))\n",
    "print(\"\\n\")\n",
    "\n",
    "if p <= alpha:\n",
    "    print('Target/output variable is Dependent on given input variable.')\n",
    "    print('Hence, There is relationship between input and output variables.')\n",
    "else:\n",
    "    print('Independent')\n",
    "    print('Hence, There is NO relationship between input and output variables.')"
   ]
  },
  {
   "cell_type": "code",
   "execution_count": null,
   "id": "70b61ded",
   "metadata": {},
   "outputs": [],
   "source": []
  },
  {
   "cell_type": "markdown",
   "id": "6e275fa7",
   "metadata": {},
   "source": [
    "###  4.5) society :"
   ]
  },
  {
   "cell_type": "code",
   "execution_count": 44,
   "id": "7dc3af28",
   "metadata": {},
   "outputs": [
    {
     "data": {
      "text/plain": [
       "count        7818\n",
       "unique       2688\n",
       "top       GrrvaGr\n",
       "freq           80\n",
       "Name: society, dtype: object"
      ]
     },
     "execution_count": 44,
     "metadata": {},
     "output_type": "execute_result"
    }
   ],
   "source": [
    "house_data[\"society\"].describe()"
   ]
  },
  {
   "cell_type": "code",
   "execution_count": 45,
   "id": "78134442",
   "metadata": {},
   "outputs": [
    {
     "data": {
      "text/plain": [
       "5502"
      ]
     },
     "execution_count": 45,
     "metadata": {},
     "output_type": "execute_result"
    }
   ],
   "source": [
    "house_data[\"society\"].isnull().sum()\n",
    "# Missing values are Present."
   ]
  },
  {
   "cell_type": "code",
   "execution_count": 46,
   "id": "ec619845",
   "metadata": {},
   "outputs": [],
   "source": [
    "# As it contains more than 10% missing values, hence we drop such column."
   ]
  },
  {
   "cell_type": "code",
   "execution_count": 47,
   "id": "7c6d5b6c",
   "metadata": {},
   "outputs": [
    {
     "data": {
      "text/html": [
       "<div>\n",
       "<style scoped>\n",
       "    .dataframe tbody tr th:only-of-type {\n",
       "        vertical-align: middle;\n",
       "    }\n",
       "\n",
       "    .dataframe tbody tr th {\n",
       "        vertical-align: top;\n",
       "    }\n",
       "\n",
       "    .dataframe thead th {\n",
       "        text-align: right;\n",
       "    }\n",
       "</style>\n",
       "<table border=\"1\" class=\"dataframe\">\n",
       "  <thead>\n",
       "    <tr style=\"text-align: right;\">\n",
       "      <th></th>\n",
       "      <th>area_type</th>\n",
       "      <th>availability</th>\n",
       "      <th>location</th>\n",
       "      <th>size</th>\n",
       "      <th>total_sqft</th>\n",
       "      <th>bath</th>\n",
       "      <th>balcony</th>\n",
       "      <th>price</th>\n",
       "    </tr>\n",
       "  </thead>\n",
       "  <tbody>\n",
       "    <tr>\n",
       "      <th>0</th>\n",
       "      <td>Super built-up  Area</td>\n",
       "      <td>Not Ready To Move</td>\n",
       "      <td>Electronic City Phase II</td>\n",
       "      <td>2 BHK</td>\n",
       "      <td>1056</td>\n",
       "      <td>2.0</td>\n",
       "      <td>1.0</td>\n",
       "      <td>39.07</td>\n",
       "    </tr>\n",
       "    <tr>\n",
       "      <th>1</th>\n",
       "      <td>Plot  Area</td>\n",
       "      <td>Ready To Move</td>\n",
       "      <td>Chikka Tirupathi</td>\n",
       "      <td>4 Bedroom</td>\n",
       "      <td>2600</td>\n",
       "      <td>5.0</td>\n",
       "      <td>3.0</td>\n",
       "      <td>120.00</td>\n",
       "    </tr>\n",
       "    <tr>\n",
       "      <th>2</th>\n",
       "      <td>Built-up  Area</td>\n",
       "      <td>Ready To Move</td>\n",
       "      <td>Uttarahalli</td>\n",
       "      <td>3 BHK</td>\n",
       "      <td>1440</td>\n",
       "      <td>2.0</td>\n",
       "      <td>3.0</td>\n",
       "      <td>62.00</td>\n",
       "    </tr>\n",
       "    <tr>\n",
       "      <th>3</th>\n",
       "      <td>Super built-up  Area</td>\n",
       "      <td>Ready To Move</td>\n",
       "      <td>Lingadheeranahalli</td>\n",
       "      <td>3 BHK</td>\n",
       "      <td>1521</td>\n",
       "      <td>3.0</td>\n",
       "      <td>1.0</td>\n",
       "      <td>95.00</td>\n",
       "    </tr>\n",
       "    <tr>\n",
       "      <th>4</th>\n",
       "      <td>Super built-up  Area</td>\n",
       "      <td>Ready To Move</td>\n",
       "      <td>Kothanur</td>\n",
       "      <td>2 BHK</td>\n",
       "      <td>1200</td>\n",
       "      <td>2.0</td>\n",
       "      <td>1.0</td>\n",
       "      <td>51.00</td>\n",
       "    </tr>\n",
       "  </tbody>\n",
       "</table>\n",
       "</div>"
      ],
      "text/plain": [
       "              area_type       availability                  location  \\\n",
       "0  Super built-up  Area  Not Ready To Move  Electronic City Phase II   \n",
       "1            Plot  Area      Ready To Move          Chikka Tirupathi   \n",
       "2        Built-up  Area      Ready To Move               Uttarahalli   \n",
       "3  Super built-up  Area      Ready To Move        Lingadheeranahalli   \n",
       "4  Super built-up  Area      Ready To Move                  Kothanur   \n",
       "\n",
       "        size total_sqft  bath  balcony   price  \n",
       "0      2 BHK       1056   2.0      1.0   39.07  \n",
       "1  4 Bedroom       2600   5.0      3.0  120.00  \n",
       "2      3 BHK       1440   2.0      3.0   62.00  \n",
       "3      3 BHK       1521   3.0      1.0   95.00  \n",
       "4      2 BHK       1200   2.0      1.0   51.00  "
      ]
     },
     "execution_count": 47,
     "metadata": {},
     "output_type": "execute_result"
    }
   ],
   "source": [
    "house_data = house_data.drop(\"society\", axis = 1)\n",
    "house_data.head()"
   ]
  },
  {
   "cell_type": "code",
   "execution_count": 48,
   "id": "4b0004b9",
   "metadata": {},
   "outputs": [
    {
     "data": {
      "text/plain": [
       "(13320, 8)"
      ]
     },
     "execution_count": 48,
     "metadata": {},
     "output_type": "execute_result"
    }
   ],
   "source": [
    "house_data.shape"
   ]
  },
  {
   "cell_type": "code",
   "execution_count": null,
   "id": "34c8a698",
   "metadata": {},
   "outputs": [],
   "source": []
  },
  {
   "cell_type": "markdown",
   "id": "6202d945",
   "metadata": {},
   "source": [
    "###  4.6) total_sqft :"
   ]
  },
  {
   "cell_type": "code",
   "execution_count": 49,
   "id": "87d7fac5",
   "metadata": {},
   "outputs": [
    {
     "data": {
      "text/plain": [
       "1200           843\n",
       "1100           221\n",
       "1500           205\n",
       "2400           196\n",
       "600            180\n",
       "              ... \n",
       "885              1\n",
       "2236             1\n",
       "2386             1\n",
       "1180 - 1630      1\n",
       "581.91           1\n",
       "Name: total_sqft, Length: 2117, dtype: int64"
      ]
     },
     "execution_count": 49,
     "metadata": {},
     "output_type": "execute_result"
    }
   ],
   "source": [
    "house_data[\"total_sqft\"].value_counts()"
   ]
  },
  {
   "cell_type": "code",
   "execution_count": 50,
   "id": "1aef8d21",
   "metadata": {},
   "outputs": [],
   "source": [
    "def finding_mean(x):\n",
    "    temp = x.split(\"-\")\n",
    "    if len(temp)==2 :\n",
    "        return (float(temp[0])+float(temp[1]))/2\n",
    "    try :\n",
    "        return float(x)\n",
    "    except :\n",
    "        return None"
   ]
  },
  {
   "cell_type": "code",
   "execution_count": 51,
   "id": "c279c1cd",
   "metadata": {},
   "outputs": [],
   "source": [
    "# Chnaging Labels and Converting To Mean Value :\n",
    "house_data[\"total_sqft\"] = house_data[\"total_sqft\"].apply(finding_mean)"
   ]
  },
  {
   "cell_type": "code",
   "execution_count": 52,
   "id": "d5ee2359",
   "metadata": {},
   "outputs": [
    {
     "data": {
      "text/plain": [
       "46"
      ]
     },
     "execution_count": 52,
     "metadata": {},
     "output_type": "execute_result"
    }
   ],
   "source": [
    "house_data[\"total_sqft\"].isnull().sum()\n",
    "# Missing values are Present."
   ]
  },
  {
   "cell_type": "code",
   "execution_count": 53,
   "id": "1000b4bc",
   "metadata": {},
   "outputs": [
    {
     "data": {
      "text/plain": [
       "dtype('float64')"
      ]
     },
     "execution_count": 53,
     "metadata": {},
     "output_type": "execute_result"
    }
   ],
   "source": [
    "house_data[\"total_sqft\"].dtype\n",
    "# Object Data-type"
   ]
  },
  {
   "cell_type": "code",
   "execution_count": 54,
   "id": "cebe8e50",
   "metadata": {},
   "outputs": [],
   "source": [
    "mean_value= house_data[\"total_sqft\"].mean() \n",
    "mean_value\n",
    "house_data[\"total_sqft\"].fillna(value=mean_value, inplace=True)"
   ]
  },
  {
   "cell_type": "code",
   "execution_count": 55,
   "id": "7793f77f",
   "metadata": {},
   "outputs": [
    {
     "data": {
      "text/plain": [
       "0"
      ]
     },
     "execution_count": 55,
     "metadata": {},
     "output_type": "execute_result"
    }
   ],
   "source": [
    "house_data[\"total_sqft\"].isnull().sum()\n",
    "# No missing values."
   ]
  },
  {
   "cell_type": "code",
   "execution_count": 56,
   "id": "6cbeb9a6",
   "metadata": {},
   "outputs": [
    {
     "data": {
      "image/png": "[encoded data removed]",
      "text/plain": [
       "<Figure size 576x576 with 1 Axes>"
      ]
     },
     "metadata": {
      "needs_background": "light"
     },
     "output_type": "display_data"
    }
   ],
   "source": [
    "plt.figure(figsize=(8,8))\n",
    "sns.boxplot(house_data[\"total_sqft\"])\n",
    "plt.title(\"Boxplot of 'total_sqft'\", fontsize=20)\n",
    "plt.show()"
   ]
  },
  {
   "cell_type": "code",
   "execution_count": 57,
   "id": "b2deb7cc",
   "metadata": {},
   "outputs": [],
   "source": [
    "# Function for Outlier Treatment :\n",
    "def treat_outlier(col) :\n",
    "    qunt10,qunt1, qunt3, qunt90 = np.percentile(col, [10,25,75,90])\n",
    "    iqr = qunt3 - qunt1\n",
    "    lower_val = qunt1-(1.5*iqr)\n",
    "    upper_val = qunt1+(1.5*iqr)\n",
    "    for i, name in enumerate(col) :\n",
    "        if(col[i]<lower_val) :\n",
    "            col[i]=qunt10\n",
    "        elif(col[i]>upper_val) :\n",
    "            col[i]=qunt90\n",
    "        else :\n",
    "            col[i]=col[i]"
   ]
  },
  {
   "cell_type": "code",
   "execution_count": 58,
   "id": "57227555",
   "metadata": {},
   "outputs": [],
   "source": [
    "# Outlier Treatment :\n",
    "treat_outlier(house_data[\"total_sqft\"])"
   ]
  },
  {
   "cell_type": "code",
   "execution_count": 59,
   "id": "997948ad",
   "metadata": {},
   "outputs": [
    {
     "data": {
      "image/png": "[encoded data removed]",
      "text/plain": [
       "<Figure size 576x576 with 1 Axes>"
      ]
     },
     "metadata": {
      "needs_background": "light"
     },
     "output_type": "display_data"
    }
   ],
   "source": [
    "plt.figure(figsize=(8,8))\n",
    "sns.boxplot(house_data[\"total_sqft\"])\n",
    "plt.title(\"Boxplot of 'total_sqft'\", fontsize=20)\n",
    "plt.show()"
   ]
  },
  {
   "cell_type": "code",
   "execution_count": 60,
   "id": "08985937",
   "metadata": {},
   "outputs": [
    {
     "data": {
      "text/plain": [
       "count    13320.000000\n",
       "mean      1428.780079\n",
       "std        516.182226\n",
       "min        250.000000\n",
       "25%       1100.000000\n",
       "50%       1279.500000\n",
       "75%       1678.000000\n",
       "max       2401.200000\n",
       "Name: total_sqft, dtype: float64"
      ]
     },
     "execution_count": 60,
     "metadata": {},
     "output_type": "execute_result"
    }
   ],
   "source": [
    "house_data[\"total_sqft\"].describe()"
   ]
  },
  {
   "cell_type": "code",
   "execution_count": 61,
   "id": "5e0709f1",
   "metadata": {},
   "outputs": [
    {
     "name": "stdout",
     "output_type": "stream",
     "text": [
      "Correlation Coefficient is 0.7318276790542624\n",
      "\n",
      "\n",
      "Target/output variable is Dependent on given input variable.\n",
      "Hence, There is relationship between input and output variables.\n"
     ]
    }
   ],
   "source": [
    "# Spearman's rho\n",
    "p = house_data[\"price\"].corr(house_data[\"total_sqft\"], method='spearman')\n",
    "alpha = 0.70\n",
    "\n",
    "print(\"Correlation Coefficient is \" + str(p))\n",
    "print(\"\\n\")\n",
    "\n",
    "if p >= alpha:\n",
    "    print('Target/output variable is Dependent on given input variable.')\n",
    "    print('Hence, There is relationship between input and output variables.')\n",
    "else:\n",
    "    print('Independent')\n",
    "    print('Hence, There is NO relationship between input and output variables.')"
   ]
  },
  {
   "cell_type": "code",
   "execution_count": null,
   "id": "aeafe2fb",
   "metadata": {},
   "outputs": [],
   "source": []
  },
  {
   "cell_type": "markdown",
   "id": "140240c6",
   "metadata": {},
   "source": [
    "###  4.7) bath :"
   ]
  },
  {
   "cell_type": "code",
   "execution_count": 62,
   "id": "7f476f1b",
   "metadata": {},
   "outputs": [
    {
     "data": {
      "text/plain": [
       "count    13247.000000\n",
       "mean         2.692610\n",
       "std          1.341458\n",
       "min          1.000000\n",
       "25%          2.000000\n",
       "50%          2.000000\n",
       "75%          3.000000\n",
       "max         40.000000\n",
       "Name: bath, dtype: float64"
      ]
     },
     "execution_count": 62,
     "metadata": {},
     "output_type": "execute_result"
    }
   ],
   "source": [
    "house_data[\"bath\"].describe()"
   ]
  },
  {
   "cell_type": "code",
   "execution_count": 63,
   "id": "2c4c832a",
   "metadata": {},
   "outputs": [
    {
     "data": {
      "text/plain": [
       "73"
      ]
     },
     "execution_count": 63,
     "metadata": {},
     "output_type": "execute_result"
    }
   ],
   "source": [
    "house_data[\"bath\"].isnull().sum()\n",
    "# Missing values are Present."
   ]
  },
  {
   "cell_type": "code",
   "execution_count": 64,
   "id": "19a5720a",
   "metadata": {},
   "outputs": [
    {
     "data": {
      "text/plain": [
       "0"
      ]
     },
     "execution_count": 64,
     "metadata": {},
     "output_type": "execute_result"
    }
   ],
   "source": [
    "# Repalcing Missing Value with Mode Value :\n",
    "mod_Val = house_data[\"bath\"].mode()[0]\n",
    "house_data[\"bath\"].fillna(value=mod_Val, inplace=True)\n",
    "house_data[\"bath\"].isnull().sum()\n",
    "# No missing values."
   ]
  },
  {
   "cell_type": "code",
   "execution_count": 65,
   "id": "53d646f5",
   "metadata": {},
   "outputs": [
    {
     "data": {
      "text/plain": [
       "dtype('float64')"
      ]
     },
     "execution_count": 65,
     "metadata": {},
     "output_type": "execute_result"
    }
   ],
   "source": [
    "house_data[\"bath\"].dtype\n",
    "# Float Data-type"
   ]
  },
  {
   "cell_type": "code",
   "execution_count": 66,
   "id": "0f8cc5f2",
   "metadata": {},
   "outputs": [
    {
     "data": {
      "text/plain": [
       "2.0     6981\n",
       "3.0     3286\n",
       "4.0     1226\n",
       "1.0      788\n",
       "5.0      524\n",
       "6.0      273\n",
       "7.0      102\n",
       "8.0       64\n",
       "9.0       43\n",
       "10.0      13\n",
       "12.0       7\n",
       "11.0       3\n",
       "13.0       3\n",
       "16.0       2\n",
       "14.0       1\n",
       "40.0       1\n",
       "18.0       1\n",
       "27.0       1\n",
       "15.0       1\n",
       "Name: bath, dtype: int64"
      ]
     },
     "execution_count": 66,
     "metadata": {},
     "output_type": "execute_result"
    }
   ],
   "source": [
    "house_data[\"bath\"].value_counts()"
   ]
  },
  {
   "cell_type": "code",
   "execution_count": 67,
   "id": "3d7b71a6",
   "metadata": {},
   "outputs": [],
   "source": [
    "house_data[\"bath\"] = house_data[\"bath\"].astype(str)"
   ]
  },
  {
   "cell_type": "code",
   "execution_count": 68,
   "id": "c89dca50",
   "metadata": {},
   "outputs": [],
   "source": [
    "house_data[\"bath\"] = house_data[\"bath\"].apply(lambda x : x.strip())\n",
    "bath_count = house_data[\"bath\"].value_counts()"
   ]
  },
  {
   "cell_type": "code",
   "execution_count": 69,
   "id": "a5aaaf78",
   "metadata": {},
   "outputs": [],
   "source": [
    "bath_count_less_10 = bath_count[bath_count<=10]"
   ]
  },
  {
   "cell_type": "code",
   "execution_count": 70,
   "id": "2279052d",
   "metadata": {},
   "outputs": [],
   "source": [
    "house_data[\"bath\"] = house_data[\"bath\"].apply(lambda x : \"other\" if x in bath_count_less_10 else x)"
   ]
  },
  {
   "cell_type": "code",
   "execution_count": 71,
   "id": "5d165ba3",
   "metadata": {},
   "outputs": [
    {
     "data": {
      "text/plain": [
       "2.0      6981\n",
       "3.0      3286\n",
       "4.0      1226\n",
       "1.0       788\n",
       "5.0       524\n",
       "6.0       273\n",
       "7.0       102\n",
       "8.0        64\n",
       "9.0        43\n",
       "other      20\n",
       "10.0       13\n",
       "Name: bath, dtype: int64"
      ]
     },
     "execution_count": 71,
     "metadata": {},
     "output_type": "execute_result"
    }
   ],
   "source": [
    "house_data[\"bath\"].value_counts()"
   ]
  },
  {
   "cell_type": "code",
   "execution_count": 72,
   "id": "7a05696e",
   "metadata": {},
   "outputs": [
    {
     "data": {
      "image/png": "[encoded data removed]",
      "text/plain": [
       "<Figure size 360x360 with 1 Axes>"
      ]
     },
     "metadata": {
      "needs_background": "light"
     },
     "output_type": "display_data"
    }
   ],
   "source": [
    "w = sns.displot(data=house_data, x=\"bath\")\n",
    "w.set_xticklabels(rotation=45)\n",
    "plt.title(\"Countplot of 'bath\", fontsize=20)\n",
    "plt.show()"
   ]
  },
  {
   "cell_type": "code",
   "execution_count": 73,
   "id": "ffa971a4",
   "metadata": {},
   "outputs": [
    {
     "name": "stdout",
     "output_type": "stream",
     "text": [
      "p value is 0.0\n",
      "\n",
      "\n",
      "Target/output variable is Dependent on given input variable.\n",
      "Hence, There is relationship between input and output variables.\n"
     ]
    }
   ],
   "source": [
    "model = ols('house_data[\"price\"]~house_data[\"bath\"]', data=house_data).fit()\n",
    "anova_result = sm.stats.anova_lm(model, type=2)\n",
    "p = anova_result[\"PR(>F)\"][0]\n",
    "alpha = 0.05\n",
    "\n",
    "print(\"p value is \" + str(p))\n",
    "print(\"\\n\")\n",
    "\n",
    "if p <= alpha:\n",
    "    print('Target/output variable is Dependent on given input variable.')\n",
    "    print('Hence, There is relationship between input and output variables.')\n",
    "else:\n",
    "    print('Independent')\n",
    "    print('Hence, There is NO relationship between input and output variables.')"
   ]
  },
  {
   "cell_type": "code",
   "execution_count": null,
   "id": "e582b5dd",
   "metadata": {},
   "outputs": [],
   "source": []
  },
  {
   "cell_type": "markdown",
   "id": "7cd9c0de",
   "metadata": {},
   "source": [
    "###  4.8) balcony :"
   ]
  },
  {
   "cell_type": "code",
   "execution_count": 74,
   "id": "251e2196",
   "metadata": {},
   "outputs": [
    {
     "data": {
      "text/plain": [
       "count    12711.000000\n",
       "mean         1.584376\n",
       "std          0.817263\n",
       "min          0.000000\n",
       "25%          1.000000\n",
       "50%          2.000000\n",
       "75%          2.000000\n",
       "max          3.000000\n",
       "Name: balcony, dtype: float64"
      ]
     },
     "execution_count": 74,
     "metadata": {},
     "output_type": "execute_result"
    }
   ],
   "source": [
    "house_data[\"balcony\"].describe()"
   ]
  },
  {
   "cell_type": "code",
   "execution_count": 75,
   "id": "7118796a",
   "metadata": {},
   "outputs": [
    {
     "data": {
      "text/plain": [
       "609"
      ]
     },
     "execution_count": 75,
     "metadata": {},
     "output_type": "execute_result"
    }
   ],
   "source": [
    "house_data[\"balcony\"].isnull().sum()\n",
    "# Missing values are Present."
   ]
  },
  {
   "cell_type": "code",
   "execution_count": 76,
   "id": "da724a07",
   "metadata": {},
   "outputs": [],
   "source": [
    "# As it contains more missing values, hence we drop such column."
   ]
  },
  {
   "cell_type": "code",
   "execution_count": 77,
   "id": "494ddec0",
   "metadata": {},
   "outputs": [
    {
     "data": {
      "text/html": [
       "<div>\n",
       "<style scoped>\n",
       "    .dataframe tbody tr th:only-of-type {\n",
       "        vertical-align: middle;\n",
       "    }\n",
       "\n",
       "    .dataframe tbody tr th {\n",
       "        vertical-align: top;\n",
       "    }\n",
       "\n",
       "    .dataframe thead th {\n",
       "        text-align: right;\n",
       "    }\n",
       "</style>\n",
       "<table border=\"1\" class=\"dataframe\">\n",
       "  <thead>\n",
       "    <tr style=\"text-align: right;\">\n",
       "      <th></th>\n",
       "      <th>area_type</th>\n",
       "      <th>availability</th>\n",
       "      <th>location</th>\n",
       "      <th>size</th>\n",
       "      <th>total_sqft</th>\n",
       "      <th>bath</th>\n",
       "      <th>price</th>\n",
       "    </tr>\n",
       "  </thead>\n",
       "  <tbody>\n",
       "    <tr>\n",
       "      <th>0</th>\n",
       "      <td>Super built-up  Area</td>\n",
       "      <td>Not Ready To Move</td>\n",
       "      <td>Electronic City Phase II</td>\n",
       "      <td>2 BHK</td>\n",
       "      <td>1056.0</td>\n",
       "      <td>2.0</td>\n",
       "      <td>39.07</td>\n",
       "    </tr>\n",
       "    <tr>\n",
       "      <th>1</th>\n",
       "      <td>Plot  Area</td>\n",
       "      <td>Ready To Move</td>\n",
       "      <td>Chikka Tirupathi</td>\n",
       "      <td>4 Bedroom</td>\n",
       "      <td>2401.2</td>\n",
       "      <td>5.0</td>\n",
       "      <td>120.00</td>\n",
       "    </tr>\n",
       "    <tr>\n",
       "      <th>2</th>\n",
       "      <td>Built-up  Area</td>\n",
       "      <td>Ready To Move</td>\n",
       "      <td>Uttarahalli</td>\n",
       "      <td>3 BHK</td>\n",
       "      <td>1440.0</td>\n",
       "      <td>2.0</td>\n",
       "      <td>62.00</td>\n",
       "    </tr>\n",
       "    <tr>\n",
       "      <th>3</th>\n",
       "      <td>Super built-up  Area</td>\n",
       "      <td>Ready To Move</td>\n",
       "      <td>Lingadheeranahalli</td>\n",
       "      <td>3 BHK</td>\n",
       "      <td>1521.0</td>\n",
       "      <td>3.0</td>\n",
       "      <td>95.00</td>\n",
       "    </tr>\n",
       "    <tr>\n",
       "      <th>4</th>\n",
       "      <td>Super built-up  Area</td>\n",
       "      <td>Ready To Move</td>\n",
       "      <td>Kothanur</td>\n",
       "      <td>2 BHK</td>\n",
       "      <td>1200.0</td>\n",
       "      <td>2.0</td>\n",
       "      <td>51.00</td>\n",
       "    </tr>\n",
       "  </tbody>\n",
       "</table>\n",
       "</div>"
      ],
      "text/plain": [
       "              area_type       availability                  location  \\\n",
       "0  Super built-up  Area  Not Ready To Move  Electronic City Phase II   \n",
       "1            Plot  Area      Ready To Move          Chikka Tirupathi   \n",
       "2        Built-up  Area      Ready To Move               Uttarahalli   \n",
       "3  Super built-up  Area      Ready To Move        Lingadheeranahalli   \n",
       "4  Super built-up  Area      Ready To Move                  Kothanur   \n",
       "\n",
       "        size  total_sqft bath   price  \n",
       "0      2 BHK      1056.0  2.0   39.07  \n",
       "1  4 Bedroom      2401.2  5.0  120.00  \n",
       "2      3 BHK      1440.0  2.0   62.00  \n",
       "3      3 BHK      1521.0  3.0   95.00  \n",
       "4      2 BHK      1200.0  2.0   51.00  "
      ]
     },
     "execution_count": 77,
     "metadata": {},
     "output_type": "execute_result"
    }
   ],
   "source": [
    "house_data = house_data.drop(\"balcony\", axis = 1)\n",
    "house_data.head()"
   ]
  },
  {
   "cell_type": "code",
   "execution_count": 78,
   "id": "8a01d01e",
   "metadata": {},
   "outputs": [
    {
     "data": {
      "text/plain": [
       "(13320, 7)"
      ]
     },
     "execution_count": 78,
     "metadata": {},
     "output_type": "execute_result"
    }
   ],
   "source": [
    "house_data.shape"
   ]
  },
  {
   "cell_type": "code",
   "execution_count": 79,
   "id": "fba20ea6",
   "metadata": {},
   "outputs": [],
   "source": [
    "data = house_data.copy()"
   ]
  },
  {
   "cell_type": "markdown",
   "id": "853e603b",
   "metadata": {},
   "source": [
    "# 5) : Encoding :"
   ]
  },
  {
   "cell_type": "code",
   "execution_count": 80,
   "id": "5ec19046",
   "metadata": {},
   "outputs": [
    {
     "data": {
      "text/plain": [
       "Index(['area_type', 'availability', 'location', 'size', 'bath'], dtype='object')"
      ]
     },
     "execution_count": 80,
     "metadata": {},
     "output_type": "execute_result"
    }
   ],
   "source": [
    "# Categorical Data\n",
    "categorical_data = data.select_dtypes(include=np.object)\n",
    "categorical_data.columns"
   ]
  },
  {
   "cell_type": "code",
   "execution_count": 81,
   "id": "0a7d093e",
   "metadata": {},
   "outputs": [
    {
     "data": {
      "text/html": [
       "<div>\n",
       "<style scoped>\n",
       "    .dataframe tbody tr th:only-of-type {\n",
       "        vertical-align: middle;\n",
       "    }\n",
       "\n",
       "    .dataframe tbody tr th {\n",
       "        vertical-align: top;\n",
       "    }\n",
       "\n",
       "    .dataframe thead th {\n",
       "        text-align: right;\n",
       "    }\n",
       "</style>\n",
       "<table border=\"1\" class=\"dataframe\">\n",
       "  <thead>\n",
       "    <tr style=\"text-align: right;\">\n",
       "      <th></th>\n",
       "      <th>area_type_Carpet  Area</th>\n",
       "      <th>area_type_Plot  Area</th>\n",
       "      <th>area_type_Super built-up  Area</th>\n",
       "      <th>availability_Ready To Move</th>\n",
       "      <th>location_1st Phase JP Nagar</th>\n",
       "      <th>location_2nd Phase Judicial Layout</th>\n",
       "      <th>location_2nd Stage Nagarbhavi</th>\n",
       "      <th>location_5th Block Hbr Layout</th>\n",
       "      <th>location_5th Phase JP Nagar</th>\n",
       "      <th>location_6th Phase JP Nagar</th>\n",
       "      <th>...</th>\n",
       "      <th>bath_10.0</th>\n",
       "      <th>bath_2.0</th>\n",
       "      <th>bath_3.0</th>\n",
       "      <th>bath_4.0</th>\n",
       "      <th>bath_5.0</th>\n",
       "      <th>bath_6.0</th>\n",
       "      <th>bath_7.0</th>\n",
       "      <th>bath_8.0</th>\n",
       "      <th>bath_9.0</th>\n",
       "      <th>bath_other</th>\n",
       "    </tr>\n",
       "  </thead>\n",
       "  <tbody>\n",
       "    <tr>\n",
       "      <th>0</th>\n",
       "      <td>0</td>\n",
       "      <td>0</td>\n",
       "      <td>1</td>\n",
       "      <td>0</td>\n",
       "      <td>0</td>\n",
       "      <td>0</td>\n",
       "      <td>0</td>\n",
       "      <td>0</td>\n",
       "      <td>0</td>\n",
       "      <td>0</td>\n",
       "      <td>...</td>\n",
       "      <td>0</td>\n",
       "      <td>1</td>\n",
       "      <td>0</td>\n",
       "      <td>0</td>\n",
       "      <td>0</td>\n",
       "      <td>0</td>\n",
       "      <td>0</td>\n",
       "      <td>0</td>\n",
       "      <td>0</td>\n",
       "      <td>0</td>\n",
       "    </tr>\n",
       "    <tr>\n",
       "      <th>1</th>\n",
       "      <td>0</td>\n",
       "      <td>1</td>\n",
       "      <td>0</td>\n",
       "      <td>1</td>\n",
       "      <td>0</td>\n",
       "      <td>0</td>\n",
       "      <td>0</td>\n",
       "      <td>0</td>\n",
       "      <td>0</td>\n",
       "      <td>0</td>\n",
       "      <td>...</td>\n",
       "      <td>0</td>\n",
       "      <td>0</td>\n",
       "      <td>0</td>\n",
       "      <td>0</td>\n",
       "      <td>1</td>\n",
       "      <td>0</td>\n",
       "      <td>0</td>\n",
       "      <td>0</td>\n",
       "      <td>0</td>\n",
       "      <td>0</td>\n",
       "    </tr>\n",
       "    <tr>\n",
       "      <th>2</th>\n",
       "      <td>0</td>\n",
       "      <td>0</td>\n",
       "      <td>0</td>\n",
       "      <td>1</td>\n",
       "      <td>0</td>\n",
       "      <td>0</td>\n",
       "      <td>0</td>\n",
       "      <td>0</td>\n",
       "      <td>0</td>\n",
       "      <td>0</td>\n",
       "      <td>...</td>\n",
       "      <td>0</td>\n",
       "      <td>1</td>\n",
       "      <td>0</td>\n",
       "      <td>0</td>\n",
       "      <td>0</td>\n",
       "      <td>0</td>\n",
       "      <td>0</td>\n",
       "      <td>0</td>\n",
       "      <td>0</td>\n",
       "      <td>0</td>\n",
       "    </tr>\n",
       "    <tr>\n",
       "      <th>3</th>\n",
       "      <td>0</td>\n",
       "      <td>0</td>\n",
       "      <td>1</td>\n",
       "      <td>1</td>\n",
       "      <td>0</td>\n",
       "      <td>0</td>\n",
       "      <td>0</td>\n",
       "      <td>0</td>\n",
       "      <td>0</td>\n",
       "      <td>0</td>\n",
       "      <td>...</td>\n",
       "      <td>0</td>\n",
       "      <td>0</td>\n",
       "      <td>1</td>\n",
       "      <td>0</td>\n",
       "      <td>0</td>\n",
       "      <td>0</td>\n",
       "      <td>0</td>\n",
       "      <td>0</td>\n",
       "      <td>0</td>\n",
       "      <td>0</td>\n",
       "    </tr>\n",
       "    <tr>\n",
       "      <th>4</th>\n",
       "      <td>0</td>\n",
       "      <td>0</td>\n",
       "      <td>1</td>\n",
       "      <td>1</td>\n",
       "      <td>0</td>\n",
       "      <td>0</td>\n",
       "      <td>0</td>\n",
       "      <td>0</td>\n",
       "      <td>0</td>\n",
       "      <td>0</td>\n",
       "      <td>...</td>\n",
       "      <td>0</td>\n",
       "      <td>1</td>\n",
       "      <td>0</td>\n",
       "      <td>0</td>\n",
       "      <td>0</td>\n",
       "      <td>0</td>\n",
       "      <td>0</td>\n",
       "      <td>0</td>\n",
       "      <td>0</td>\n",
       "      <td>0</td>\n",
       "    </tr>\n",
       "  </tbody>\n",
       "</table>\n",
       "<p>5 rows × 273 columns</p>\n",
       "</div>"
      ],
      "text/plain": [
       "   area_type_Carpet  Area  area_type_Plot  Area  \\\n",
       "0                       0                     0   \n",
       "1                       0                     1   \n",
       "2                       0                     0   \n",
       "3                       0                     0   \n",
       "4                       0                     0   \n",
       "\n",
       "   area_type_Super built-up  Area  availability_Ready To Move  \\\n",
       "0                               1                           0   \n",
       "1                               0                           1   \n",
       "2                               0                           1   \n",
       "3                               1                           1   \n",
       "4                               1                           1   \n",
       "\n",
       "   location_1st Phase JP Nagar  location_2nd Phase Judicial Layout  \\\n",
       "0                            0                                   0   \n",
       "1                            0                                   0   \n",
       "2                            0                                   0   \n",
       "3                            0                                   0   \n",
       "4                            0                                   0   \n",
       "\n",
       "   location_2nd Stage Nagarbhavi  location_5th Block Hbr Layout  \\\n",
       "0                              0                              0   \n",
       "1                              0                              0   \n",
       "2                              0                              0   \n",
       "3                              0                              0   \n",
       "4                              0                              0   \n",
       "\n",
       "   location_5th Phase JP Nagar  location_6th Phase JP Nagar  ...  bath_10.0  \\\n",
       "0                            0                            0  ...          0   \n",
       "1                            0                            0  ...          0   \n",
       "2                            0                            0  ...          0   \n",
       "3                            0                            0  ...          0   \n",
       "4                            0                            0  ...          0   \n",
       "\n",
       "   bath_2.0  bath_3.0  bath_4.0  bath_5.0  bath_6.0  bath_7.0  bath_8.0  \\\n",
       "0         1         0         0         0         0         0         0   \n",
       "1         0         0         0         1         0         0         0   \n",
       "2         1         0         0         0         0         0         0   \n",
       "3         0         1         0         0         0         0         0   \n",
       "4         1         0         0         0         0         0         0   \n",
       "\n",
       "   bath_9.0  bath_other  \n",
       "0         0           0  \n",
       "1         0           0  \n",
       "2         0           0  \n",
       "3         0           0  \n",
       "4         0           0  \n",
       "\n",
       "[5 rows x 273 columns]"
      ]
     },
     "execution_count": 81,
     "metadata": {},
     "output_type": "execute_result"
    }
   ],
   "source": [
    "categorical_data_encoded =pd.get_dummies(data=categorical_data,drop_first=True)\n",
    "categorical_data_encoded.head()"
   ]
  },
  {
   "cell_type": "code",
   "execution_count": 82,
   "id": "8cbe5b6d",
   "metadata": {},
   "outputs": [],
   "source": [
    "for col in categorical_data.columns :\n",
    "    del data[col]"
   ]
  },
  {
   "cell_type": "code",
   "execution_count": 83,
   "id": "08cbcd96",
   "metadata": {},
   "outputs": [
    {
     "data": {
      "text/html": [
       "<div>\n",
       "<style scoped>\n",
       "    .dataframe tbody tr th:only-of-type {\n",
       "        vertical-align: middle;\n",
       "    }\n",
       "\n",
       "    .dataframe tbody tr th {\n",
       "        vertical-align: top;\n",
       "    }\n",
       "\n",
       "    .dataframe thead th {\n",
       "        text-align: right;\n",
       "    }\n",
       "</style>\n",
       "<table border=\"1\" class=\"dataframe\">\n",
       "  <thead>\n",
       "    <tr style=\"text-align: right;\">\n",
       "      <th></th>\n",
       "      <th>total_sqft</th>\n",
       "      <th>price</th>\n",
       "      <th>area_type_Carpet  Area</th>\n",
       "      <th>area_type_Plot  Area</th>\n",
       "      <th>area_type_Super built-up  Area</th>\n",
       "      <th>availability_Ready To Move</th>\n",
       "      <th>location_1st Phase JP Nagar</th>\n",
       "      <th>location_2nd Phase Judicial Layout</th>\n",
       "      <th>location_2nd Stage Nagarbhavi</th>\n",
       "      <th>location_5th Block Hbr Layout</th>\n",
       "      <th>...</th>\n",
       "      <th>bath_10.0</th>\n",
       "      <th>bath_2.0</th>\n",
       "      <th>bath_3.0</th>\n",
       "      <th>bath_4.0</th>\n",
       "      <th>bath_5.0</th>\n",
       "      <th>bath_6.0</th>\n",
       "      <th>bath_7.0</th>\n",
       "      <th>bath_8.0</th>\n",
       "      <th>bath_9.0</th>\n",
       "      <th>bath_other</th>\n",
       "    </tr>\n",
       "  </thead>\n",
       "  <tbody>\n",
       "    <tr>\n",
       "      <th>0</th>\n",
       "      <td>1056.0</td>\n",
       "      <td>39.07</td>\n",
       "      <td>0</td>\n",
       "      <td>0</td>\n",
       "      <td>1</td>\n",
       "      <td>0</td>\n",
       "      <td>0</td>\n",
       "      <td>0</td>\n",
       "      <td>0</td>\n",
       "      <td>0</td>\n",
       "      <td>...</td>\n",
       "      <td>0</td>\n",
       "      <td>1</td>\n",
       "      <td>0</td>\n",
       "      <td>0</td>\n",
       "      <td>0</td>\n",
       "      <td>0</td>\n",
       "      <td>0</td>\n",
       "      <td>0</td>\n",
       "      <td>0</td>\n",
       "      <td>0</td>\n",
       "    </tr>\n",
       "    <tr>\n",
       "      <th>1</th>\n",
       "      <td>2401.2</td>\n",
       "      <td>120.00</td>\n",
       "      <td>0</td>\n",
       "      <td>1</td>\n",
       "      <td>0</td>\n",
       "      <td>1</td>\n",
       "      <td>0</td>\n",
       "      <td>0</td>\n",
       "      <td>0</td>\n",
       "      <td>0</td>\n",
       "      <td>...</td>\n",
       "      <td>0</td>\n",
       "      <td>0</td>\n",
       "      <td>0</td>\n",
       "      <td>0</td>\n",
       "      <td>1</td>\n",
       "      <td>0</td>\n",
       "      <td>0</td>\n",
       "      <td>0</td>\n",
       "      <td>0</td>\n",
       "      <td>0</td>\n",
       "    </tr>\n",
       "    <tr>\n",
       "      <th>2</th>\n",
       "      <td>1440.0</td>\n",
       "      <td>62.00</td>\n",
       "      <td>0</td>\n",
       "      <td>0</td>\n",
       "      <td>0</td>\n",
       "      <td>1</td>\n",
       "      <td>0</td>\n",
       "      <td>0</td>\n",
       "      <td>0</td>\n",
       "      <td>0</td>\n",
       "      <td>...</td>\n",
       "      <td>0</td>\n",
       "      <td>1</td>\n",
       "      <td>0</td>\n",
       "      <td>0</td>\n",
       "      <td>0</td>\n",
       "      <td>0</td>\n",
       "      <td>0</td>\n",
       "      <td>0</td>\n",
       "      <td>0</td>\n",
       "      <td>0</td>\n",
       "    </tr>\n",
       "    <tr>\n",
       "      <th>3</th>\n",
       "      <td>1521.0</td>\n",
       "      <td>95.00</td>\n",
       "      <td>0</td>\n",
       "      <td>0</td>\n",
       "      <td>1</td>\n",
       "      <td>1</td>\n",
       "      <td>0</td>\n",
       "      <td>0</td>\n",
       "      <td>0</td>\n",
       "      <td>0</td>\n",
       "      <td>...</td>\n",
       "      <td>0</td>\n",
       "      <td>0</td>\n",
       "      <td>1</td>\n",
       "      <td>0</td>\n",
       "      <td>0</td>\n",
       "      <td>0</td>\n",
       "      <td>0</td>\n",
       "      <td>0</td>\n",
       "      <td>0</td>\n",
       "      <td>0</td>\n",
       "    </tr>\n",
       "    <tr>\n",
       "      <th>4</th>\n",
       "      <td>1200.0</td>\n",
       "      <td>51.00</td>\n",
       "      <td>0</td>\n",
       "      <td>0</td>\n",
       "      <td>1</td>\n",
       "      <td>1</td>\n",
       "      <td>0</td>\n",
       "      <td>0</td>\n",
       "      <td>0</td>\n",
       "      <td>0</td>\n",
       "      <td>...</td>\n",
       "      <td>0</td>\n",
       "      <td>1</td>\n",
       "      <td>0</td>\n",
       "      <td>0</td>\n",
       "      <td>0</td>\n",
       "      <td>0</td>\n",
       "      <td>0</td>\n",
       "      <td>0</td>\n",
       "      <td>0</td>\n",
       "      <td>0</td>\n",
       "    </tr>\n",
       "  </tbody>\n",
       "</table>\n",
       "<p>5 rows × 275 columns</p>\n",
       "</div>"
      ],
      "text/plain": [
       "   total_sqft   price  area_type_Carpet  Area  area_type_Plot  Area  \\\n",
       "0      1056.0   39.07                       0                     0   \n",
       "1      2401.2  120.00                       0                     1   \n",
       "2      1440.0   62.00                       0                     0   \n",
       "3      1521.0   95.00                       0                     0   \n",
       "4      1200.0   51.00                       0                     0   \n",
       "\n",
       "   area_type_Super built-up  Area  availability_Ready To Move  \\\n",
       "0                               1                           0   \n",
       "1                               0                           1   \n",
       "2                               0                           1   \n",
       "3                               1                           1   \n",
       "4                               1                           1   \n",
       "\n",
       "   location_1st Phase JP Nagar  location_2nd Phase Judicial Layout  \\\n",
       "0                            0                                   0   \n",
       "1                            0                                   0   \n",
       "2                            0                                   0   \n",
       "3                            0                                   0   \n",
       "4                            0                                   0   \n",
       "\n",
       "   location_2nd Stage Nagarbhavi  location_5th Block Hbr Layout  ...  \\\n",
       "0                              0                              0  ...   \n",
       "1                              0                              0  ...   \n",
       "2                              0                              0  ...   \n",
       "3                              0                              0  ...   \n",
       "4                              0                              0  ...   \n",
       "\n",
       "   bath_10.0  bath_2.0  bath_3.0  bath_4.0  bath_5.0  bath_6.0  bath_7.0  \\\n",
       "0          0         1         0         0         0         0         0   \n",
       "1          0         0         0         0         1         0         0   \n",
       "2          0         1         0         0         0         0         0   \n",
       "3          0         0         1         0         0         0         0   \n",
       "4          0         1         0         0         0         0         0   \n",
       "\n",
       "   bath_8.0  bath_9.0  bath_other  \n",
       "0         0         0           0  \n",
       "1         0         0           0  \n",
       "2         0         0           0  \n",
       "3         0         0           0  \n",
       "4         0         0           0  \n",
       "\n",
       "[5 rows x 275 columns]"
      ]
     },
     "execution_count": 83,
     "metadata": {},
     "output_type": "execute_result"
    }
   ],
   "source": [
    "data = pd.concat([data, categorical_data_encoded], axis=1, join='inner')\n",
    "data.head()"
   ]
  },
  {
   "cell_type": "code",
   "execution_count": 84,
   "id": "15816402",
   "metadata": {},
   "outputs": [
    {
     "name": "stdout",
     "output_type": "stream",
     "text": [
      "Shape of data : (13320, 275)\n"
     ]
    }
   ],
   "source": [
    "print(\"Shape of data :\",data.shape)"
   ]
  },
  {
   "cell_type": "code",
   "execution_count": 85,
   "id": "26143c13",
   "metadata": {},
   "outputs": [],
   "source": [
    "house_data = data"
   ]
  },
  {
   "cell_type": "code",
   "execution_count": null,
   "id": "75d0fe7c",
   "metadata": {},
   "outputs": [],
   "source": []
  },
  {
   "cell_type": "markdown",
   "id": "70f21288",
   "metadata": {},
   "source": [
    "# 5)  Train-Test Splitting :"
   ]
  },
  {
   "cell_type": "code",
   "execution_count": 86,
   "id": "130d5d25",
   "metadata": {},
   "outputs": [],
   "source": [
    "X = house_data.drop(columns=\"price\", axis=1)\n",
    "Y = house_data[\"price\"]"
   ]
  },
  {
   "cell_type": "code",
   "execution_count": 87,
   "id": "1d12ae48",
   "metadata": {},
   "outputs": [
    {
     "name": "stdout",
     "output_type": "stream",
     "text": [
      "Shape of Input dataset :  (13320, 274)\n",
      "Shape of Output (Target) dataset :  (13320,)\n"
     ]
    }
   ],
   "source": [
    "print(\"Shape of Input dataset : \", X.shape)\n",
    "print(\"Shape of Output (Target) dataset : \", Y.shape)"
   ]
  },
  {
   "cell_type": "code",
   "execution_count": 88,
   "id": "1d23b97d",
   "metadata": {},
   "outputs": [],
   "source": [
    "X_train, X_test, Y_train, Y_test = train_test_split(X,Y, test_size=0.2,random_state=2)"
   ]
  },
  {
   "cell_type": "code",
   "execution_count": 89,
   "id": "46e202f4",
   "metadata": {},
   "outputs": [
    {
     "name": "stdout",
     "output_type": "stream",
     "text": [
      "Shape of X_train dataset :  (10656, 274)\n",
      "Shape of X_test dataset :  (2664, 274)\n",
      "\n",
      "\n",
      "Shape of Y_train dataset :  (10656,)\n",
      "Shape of Y_test dataset :  (2664,)\n"
     ]
    }
   ],
   "source": [
    "print(\"Shape of X_train dataset : \", X_train.shape)\n",
    "print(\"Shape of X_test dataset : \", X_test.shape)\n",
    "print(\"\\n\")\n",
    "print(\"Shape of Y_train dataset : \", Y_train.shape)\n",
    "print(\"Shape of Y_test dataset : \", Y_test.shape)"
   ]
  },
  {
   "cell_type": "code",
   "execution_count": null,
   "id": "eae8c633",
   "metadata": {},
   "outputs": [],
   "source": []
  },
  {
   "cell_type": "markdown",
   "id": "627af504",
   "metadata": {},
   "source": [
    "# 6)  Model Building :"
   ]
  },
  {
   "cell_type": "code",
   "execution_count": 90,
   "id": "19b13f57",
   "metadata": {},
   "outputs": [
    {
     "data": {
      "text/plain": [
       "0.47350136275693766"
      ]
     },
     "execution_count": 90,
     "metadata": {},
     "output_type": "execute_result"
    }
   ],
   "source": [
    "from sklearn.linear_model import LinearRegression\n",
    "lr_clf = LinearRegression()\n",
    "lr_clf.fit(X_train,Y_train)\n",
    "lr_clf.score(X_test,Y_test)"
   ]
  },
  {
   "cell_type": "code",
   "execution_count": null,
   "id": "de861cb0",
   "metadata": {},
   "outputs": [],
   "source": []
  },
  {
   "cell_type": "markdown",
   "id": "368ef905",
   "metadata": {},
   "source": [
    "# 7)  Model Dump :"
   ]
  },
  {
   "cell_type": "code",
   "execution_count": 91,
   "id": "45adde81",
   "metadata": {},
   "outputs": [],
   "source": [
    "import pickle\n",
    "pickle.dump(lr_clf,open('model.pkl','wb'))"
   ]
  }
 ],
 "metadata": {
  "kernelspec": {
   "display_name": "Python 3",
   "language": "python",
   "name": "python3"
  },
  "language_info": {
   "codemirror_mode": {
    "name": "ipython",
    "version": 3
   },
   "file_extension": ".py",
   "mimetype": "text/x-python",
   "name": "python",
   "nbconvert_exporter": "python",
   "pygments_lexer": "ipython3",
   "version": "3.8.8"
  }
 },
 "nbformat": 4,
 "nbformat_minor": 5
}
